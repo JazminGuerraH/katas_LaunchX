{
 "cells": [
  {
   "cell_type": "code",
   "execution_count": null,
   "metadata": {},
   "outputs": [],
   "source": [
    "asteroide = 49\n",
    "if asteroide > 25 :\n",
    "    print (\"peligro! asteroide acercandose rapidamente a la tierra\")\n",
    "else :\n",
    "    print (\"no pasa nada, todo tranquilo\")"
   ]
  },
  {
   "cell_type": "code",
   "execution_count": null,
   "metadata": {},
   "outputs": [],
   "source": [
    "asteroide = 19\n",
    "if asteroide < 20 :\n",
    "    print (\"Rayo de Luz,probablemente sea un asteroide\")\n",
    "elif asteroide == 20 :\n",
    "    print (\"Rayo de Luz,probablemente sea un asteroide\")\n",
    "else : \n",
    "    print (\"no sucede nada, todo tranquilo\")\n",
    "\n"
   ]
  },
  {
   "cell_type": "code",
   "execution_count": null,
   "metadata": {},
   "outputs": [],
   "source": [
    "velocidad_asteroide = 25\n",
    "tamaño = 50\n",
    "if velocidad_asteroide > 25 and tamaño > 25: \n",
    "    print (\"peligro, asteroide acercandose rapidamente a la tierra\")\n",
    "elif velocidad_asteroide >= 15:\n",
    "     print (\"rayo de luz, probablemente sea un asteroide\")\n",
    "elif tamaño < 30:\n",
    "    print(\"no sucede nada, todo tranquilo : \")\n",
    "else:\n",
    "    print(\"no sucede nada, todo tranquilo: \")\n",
    "\n"
   ]
  }
 ],
 "metadata": {
  "interpreter": {
   "hash": "aee8b7b246df8f9039afb4144a1f6fd8d2ca17a180786b69acc140d282b71a49"
  },
  "kernelspec": {
   "display_name": "Python 3.10.2 64-bit",
   "language": "python",
   "name": "python3"
  },
  "language_info": {
   "codemirror_mode": {
    "name": "ipython",
    "version": 3
   },
   "file_extension": ".py",
   "mimetype": "text/x-python",
   "name": "python",
   "nbconvert_exporter": "python",
   "pygments_lexer": "ipython3",
   "version": "3.10.2"
  },
  "orig_nbformat": 4
 },
 "nbformat": 4,
 "nbformat_minor": 2
}
