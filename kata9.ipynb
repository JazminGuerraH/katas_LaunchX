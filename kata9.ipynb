{
 "cells": [
  {
   "cell_type": "markdown",
   "metadata": {},
   "source": [
    "# Ejercicio 1: Trabajar con argumentos en funciones"
   ]
  },
  {
   "cell_type": "code",
   "execution_count": 4,
   "metadata": {},
   "outputs": [],
   "source": [
    "#función para leer tres lecturas de combustible y muestre el promedio \n",
    "def report (tank_one, tank_two, tank_three) : \n",
    "    total_average = (tank_one + tank_two + tank_three)/ 3\n",
    "    return f\"\"\"fuel report:\n",
    "    total average : {total_average} %\n",
    "    tank one: {tank_one} %\n",
    "    tank two: {tank_two} %\n",
    "    tank three {tank_three} %\n",
    "    \"\"\""
   ]
  },
  {
   "cell_type": "code",
   "execution_count": 5,
   "metadata": {},
   "outputs": [
    {
     "name": "stdout",
     "output_type": "stream",
     "text": [
      "fuel report:\n",
      "    total average : 62.0 %\n",
      "    tank one: 50 %\n",
      "    tank two: 66 %\n",
      "    tank three 70 %\n",
      "    \n"
     ]
    }
   ],
   "source": [
    "# Llamamos a la función que genera el reporte print(funcion(tanque1, tanque2, tanque3))\n",
    "print(report (50, 66, 70))"
   ]
  },
  {
   "cell_type": "code",
   "execution_count": 12,
   "metadata": {},
   "outputs": [],
   "source": [
    "# función promedio\n",
    "def average(values) :\n",
    "    total = sum(values)\n",
    "    number_of_items = len(values)\n",
    "    return total/number_of_items"
   ]
  },
  {
   "cell_type": "code",
   "execution_count": 15,
   "metadata": {},
   "outputs": [
    {
     "data": {
      "text/plain": [
       "72.33333333333333"
      ]
     },
     "execution_count": 15,
     "metadata": {},
     "output_type": "execute_result"
    }
   ],
   "source": [
    "\n",
    "average([70, 68, 79])"
   ]
  },
  {
   "cell_type": "code",
   "execution_count": 17,
   "metadata": {},
   "outputs": [],
   "source": [
    "# actualización de función \n",
    "def report (tank_one, tank_two, tank_three) : \n",
    "    total_average = (tank_one + tank_two + tank_three)/ 3\n",
    "    return f\"\"\"fuel report:\n",
    "    total average : {total_average} %\n",
    "    tank one: {tank_one} %\n",
    "    tank two: {tank_two} %\n",
    "    tank three {tank_three} %\n",
    "    \"\"\"\n"
   ]
  },
  {
   "cell_type": "code",
   "execution_count": 18,
   "metadata": {},
   "outputs": [
    {
     "name": "stdout",
     "output_type": "stream",
     "text": [
      "fuel report:\n",
      "    total average : 89.33333333333333 %\n",
      "    tank one: 90 %\n",
      "    tank two: 81 %\n",
      "    tank three 97 %\n",
      "    \n"
     ]
    }
   ],
   "source": [
    "# cambio de datos \n",
    "print(report(90, 81, 97))"
   ]
  },
  {
   "cell_type": "markdown",
   "metadata": {},
   "source": [
    "## Ejercicio 2: trabajo con argumentos de palabra clave."
   ]
  },
  {
   "cell_type": "code",
   "execution_count": 23,
   "metadata": {},
   "outputs": [],
   "source": [
    "# función con un informe preciso de la mision.\n",
    "def report_one (pre_launch_time, flight_time, destination, tank_one, tank_two) : \n",
    "    return f\"\"\"\n",
    "    mission to {destination}\n",
    "    total travel time {pre_launch_time + flight_time} minutes\n",
    "    total fuel tank {tank_one + tank_two} gallons\n",
    "    \"\"\"\n",
    "    print(report_one(\"moon\", 25 , 40 , 32 , one = 200000, two =500000 ))\n"
   ]
  },
  {
   "cell_type": "code",
   "execution_count": 35,
   "metadata": {},
   "outputs": [],
   "source": [
    "def report_one (destination, *minutes, **fuel_reservoirs) : \n",
    "    general_report = f\"\"\"\n",
    "    mission to {destination}\n",
    "    total travel time {sum(minutes)} minutes\n",
    "    total fuel tank {sum(fuel_reservoirs.values())}\n",
    "    \"\"\"\n",
    "    for tank_name, gallons in fuel_reservoirs.items():\n",
    "        general_report += f\"{tank_name} tank --> {gallons} gallons left\\n\"\n",
    "    return general_report\n"
   ]
  },
  {
   "cell_type": "code",
   "execution_count": 36,
   "metadata": {},
   "outputs": [
    {
     "name": "stdout",
     "output_type": "stream",
     "text": [
      "\n",
      "    mission to Moon\n",
      "    total travel time 94 minutes\n",
      "    total fuel tank 700000\n",
      "    main tank --> 200000 gallons left\n",
      "external tank --> 500000 gallons left\n",
      "\n"
     ]
    }
   ],
   "source": [
    "print(report_one(\"Moon\", 20, 14, 60, main=200000, external=500000))"
   ]
  }
 ],
 "metadata": {
  "interpreter": {
   "hash": "aee8b7b246df8f9039afb4144a1f6fd8d2ca17a180786b69acc140d282b71a49"
  },
  "kernelspec": {
   "display_name": "Python 3.10.2 64-bit",
   "language": "python",
   "name": "python3"
  },
  "language_info": {
   "codemirror_mode": {
    "name": "ipython",
    "version": 3
   },
   "file_extension": ".py",
   "mimetype": "text/x-python",
   "name": "python",
   "nbconvert_exporter": "python",
   "pygments_lexer": "ipython3",
   "version": "3.10.2"
  },
  "orig_nbformat": 4
 },
 "nbformat": 4,
 "nbformat_minor": 2
}
